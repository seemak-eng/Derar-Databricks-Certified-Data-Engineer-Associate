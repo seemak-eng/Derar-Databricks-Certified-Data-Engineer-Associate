{
 "cells": [
  {
   "cell_type": "code",
   "execution_count": 0,
   "metadata": {
    "application/vnd.databricks.v1+cell": {
     "cellMetadata": {
      "byteLimit": 2048000,
      "implicitDf": true,
      "rowLimit": 10000
     },
     "inputWidgets": {},
     "nuid": "88ea9659-843d-4ed5-b082-b985086234c6",
     "showTitle": false,
     "tableResultSettingsMap": {},
     "title": ""
    }
   },
   "outputs": [],
   "source": [
    "USE CATALOG db_practice;\n",
    "USE SCHEMA default;\n",
    "CREATE TABLE IF NOT EXISTS smartphones(\n",
    "  id INT,\n",
    "  name STRING,\n",
    "  brand STRING,\n",
    "  year INT);\n",
    "INSERT INTO smartphones VALUES (1, 'iPhone 12', 'Apple', 2020);\n",
    "INSERT INTO smartphones VALUES (2, 'Galaxy S21', 'Samsung'  , 2021);\n",
    "INSERT INTO smartphones VALUES (3, 'Pixel 5', 'Google', 2020);\n",
    "INSERT INTO smartphones VALUES (4, 'OnePlus 9', 'OnePlus', 2021);\n",
    "INSERT INTO smartphones VALUES (5, 'iPhone 13', 'Apple', 2021);\n",
    "INSERT INTO smartphones VALUES (6, 'Galaxy S22', 'Samsung'  , 2022);\n",
    "INSERT INTO smartphones VALUES (7, 'Pixel 6', 'Google', 2022);\n",
    "INSERT INTO smartphones VALUES (8, 'OnePlus 10', 'OnePlus', 2022);\n",
    "INSERT INTO smartphones VALUES (9, 'iPhone 14', 'Apple', 2022);\n",
    "INSERT INTO smartphones VALUES (10, 'Galaxy S23', 'Samsung'  , 2023)"
   ]
  },
  {
   "cell_type": "code",
   "execution_count": 0,
   "metadata": {
    "application/vnd.databricks.v1+cell": {
     "cellMetadata": {},
     "inputWidgets": {},
     "nuid": "d728faab-3d9f-4a28-8e3d-2f0ee7486ff9",
     "showTitle": false,
     "tableResultSettingsMap": {},
     "title": ""
    }
   },
   "outputs": [],
   "source": [
    "SHOW TABLES"
   ]
  },
  {
   "cell_type": "code",
   "execution_count": 0,
   "metadata": {
    "application/vnd.databricks.v1+cell": {
     "cellMetadata": {},
     "inputWidgets": {},
     "nuid": "bacf50b2-95c2-4d09-b804-db8e48d6bce4",
     "showTitle": false,
     "tableResultSettingsMap": {},
     "title": ""
    }
   },
   "outputs": [],
   "source": [
    "-- Clasic View\n",
    "\n",
    "CREATE VIEW view_apple_phones\n",
    "AS SELECT * FROM smartphones WHERE brand = 'Apple';\n",
    "\n",
    "SELECT * FROM view_apple_phones"
   ]
  },
  {
   "cell_type": "code",
   "execution_count": 0,
   "metadata": {
    "application/vnd.databricks.v1+cell": {
     "cellMetadata": {},
     "inputWidgets": {},
     "nuid": "f6b0de73-105d-483c-9621-472e16023b06",
     "showTitle": false,
     "tableResultSettingsMap": {},
     "title": ""
    }
   },
   "outputs": [],
   "source": [
    "SHOW TABLES"
   ]
  },
  {
   "cell_type": "code",
   "execution_count": 0,
   "metadata": {
    "application/vnd.databricks.v1+cell": {
     "cellMetadata": {},
     "inputWidgets": {},
     "nuid": "ddbe944f-5aea-4459-a514-4b60f173b238",
     "showTitle": false,
     "tableResultSettingsMap": {},
     "title": ""
    }
   },
   "outputs": [],
   "source": [
    "-- TEMPORARY View\n",
    "\n",
    "CREATE TEMP VIEW temp_view_phones_brands\n",
    "AS SELECT DISTINCT brand FROM smartphones;\n",
    "\n",
    "SELECT * FROM temp_view_phones_brands"
   ]
  },
  {
   "cell_type": "code",
   "execution_count": 0,
   "metadata": {
    "application/vnd.databricks.v1+cell": {
     "cellMetadata": {},
     "inputWidgets": {},
     "nuid": "4c1a0d21-a393-481d-9d92-718d2b6ce242",
     "showTitle": false,
     "tableResultSettingsMap": {},
     "title": ""
    }
   },
   "outputs": [],
   "source": [
    "SHOW TABLES"
   ]
  },
  {
   "cell_type": "code",
   "execution_count": 0,
   "metadata": {
    "application/vnd.databricks.v1+cell": {
     "cellMetadata": {},
     "inputWidgets": {},
     "nuid": "69d3da9b-8405-4ba6-a2df-5435f9c99246",
     "showTitle": false,
     "tableResultSettingsMap": {},
     "title": ""
    }
   },
   "outputs": [],
   "source": [
    "-- GLOBAL TEMPORARY View\n",
    "\n",
    "CREATE GLOBAL TEMP VIEW golbal_temp_view_latest_phones\n",
    "AS SELECT* FROM smartphones WHERE year > 2020 ORDER BY year DESC;\n",
    "\n",
    "SELECT * FROM golbal_temp.golbal_temp_view_latest_phones"
   ]
  },
  {
   "cell_type": "code",
   "execution_count": 0,
   "metadata": {
    "application/vnd.databricks.v1+cell": {
     "cellMetadata": {},
     "inputWidgets": {},
     "nuid": "ba61666c-00b6-43c6-a775-819ea8b1f7b6",
     "showTitle": false,
     "tableResultSettingsMap": {},
     "title": ""
    }
   },
   "outputs": [],
   "source": [
    "SHOW TABLES;"
   ]
  },
  {
   "cell_type": "code",
   "execution_count": 0,
   "metadata": {
    "application/vnd.databricks.v1+cell": {
     "cellMetadata": {},
     "inputWidgets": {},
     "nuid": "12081d54-112e-4720-8d34-04d15680b9a6",
     "showTitle": false,
     "tableResultSettingsMap": {},
     "title": ""
    }
   },
   "outputs": [],
   "source": [
    "SHOW TABLES IN global_temp;"
   ]
  }
 ],
 "metadata": {
  "application/vnd.databricks.v1+notebook": {
   "computePreferences": null,
   "dashboards": [],
   "environmentMetadata": {
    "base_environment": "",
    "environment_version": "2"
   },
   "inputWidgetPreferences": null,
   "language": "sql",
   "notebookMetadata": {
    "mostRecentlyExecutedCommandWithImplicitDF": {
     "commandId": 5456129591057370,
     "dataframes": [
      "_sqldf"
     ]
    },
    "pythonIndentUnit": 4
   },
   "notebookName": "05-Views",
   "widgets": {}
  },
  "language_info": {
   "name": "sql"
  }
 },
 "nbformat": 4,
 "nbformat_minor": 0
}
